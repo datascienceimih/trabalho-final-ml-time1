{
 "cells": [
  {
   "cell_type": "markdown",
   "metadata": {},
   "source": [
    "# Atividade Final - ML\n",
    "\n",
    "#### Gerson Vasconcelos"
   ]
  },
  {
   "cell_type": "code",
   "execution_count": 61,
   "metadata": {},
   "outputs": [],
   "source": [
    "import pandas as pd\n",
    "import numpy as np\n",
    "import matplotlib.pyplot as plt\n",
    "%matplotlib inline\n",
    "\n",
    "from imblearn.over_sampling import SMOTE\n",
    "from sklearn.linear_model import LogisticRegressionCV\n",
    "from sklearn.ensemble import RandomForestClassifier\n",
    "from sklearn.discriminant_analysis import LinearDiscriminantAnalysis\n",
    "from sklearn.naive_bayes import GaussianNB\n",
    "from sklearn.model_selection import train_test_split\n",
    "from sklearn.metrics import accuracy_score, roc_auc_score, confusion_matrix\n",
    "from sklearn.impute import SimpleImputer\n"
   ]
  },
  {
   "cell_type": "code",
   "execution_count": 2,
   "metadata": {},
   "outputs": [],
   "source": [
    "# !wget http://www.vincentlemaire-labs.fr/kddcup2009/orange_small_train.data.zip\n",
    "# !wget http://www.vincentlemaire-labs.fr/kddcup2009/orange_small_train_churn.labels"
   ]
  },
  {
   "cell_type": "code",
   "execution_count": 3,
   "metadata": {},
   "outputs": [],
   "source": [
    "# !unzip orange_small_train.data.zip\n",
    "# !unzip orange_small_train_churn.labels"
   ]
  },
  {
   "cell_type": "code",
   "execution_count": 4,
   "metadata": {},
   "outputs": [],
   "source": [
    "y = pd.read_csv(\"orange_small_train_churn.labels\", header=None)\n",
    "X = pd.read_csv(\"orange_small_train.data\", sep = \"\\t\")"
   ]
  },
  {
   "cell_type": "markdown",
   "metadata": {},
   "source": [
    "#### Exploração e pré processamento"
   ]
  },
  {
   "cell_type": "code",
   "execution_count": 5,
   "metadata": {},
   "outputs": [
    {
     "data": {
      "text/plain": [
       "(50000, 230)"
      ]
     },
     "execution_count": 5,
     "metadata": {},
     "output_type": "execute_result"
    }
   ],
   "source": [
    "# Dimensões\n",
    "X.shape"
   ]
  },
  {
   "cell_type": "code",
   "execution_count": 6,
   "metadata": {},
   "outputs": [
    {
     "data": {
      "text/plain": [
       "(50000, 1)"
      ]
     },
     "execution_count": 6,
     "metadata": {},
     "output_type": "execute_result"
    }
   ],
   "source": [
    "y.shape"
   ]
  },
  {
   "cell_type": "code",
   "execution_count": 7,
   "metadata": {},
   "outputs": [
    {
     "data": {
      "text/plain": [
       "array([0, 1])"
      ]
     },
     "execution_count": 7,
     "metadata": {},
     "output_type": "execute_result"
    }
   ],
   "source": [
    "# Mudando para binário\n",
    "y[y[0] == -1] = 0\n",
    "\n",
    "# Valores das labels\n",
    "y[0].unique()"
   ]
  },
  {
   "cell_type": "code",
   "execution_count": 8,
   "metadata": {},
   "outputs": [
    {
     "data": {
      "text/plain": [
       "0    92.656\n",
       "1     7.344\n",
       "Name: 0, dtype: float64"
      ]
     },
     "execution_count": 8,
     "metadata": {},
     "output_type": "execute_result"
    }
   ],
   "source": [
    "# Será que os labels estão balanceados?\n",
    "(y[0].value_counts()/len(y[0]))* 100"
   ]
  },
  {
   "cell_type": "code",
   "execution_count": 9,
   "metadata": {
    "scrolled": true
   },
   "outputs": [
    {
     "data": {
      "text/plain": [
       "float64    191\n",
       "object      38\n",
       "int64        1\n",
       "dtype: int64"
      ]
     },
     "execution_count": 9,
     "metadata": {},
     "output_type": "execute_result"
    }
   ],
   "source": [
    "# Checando os tipos de variáveis no X\n",
    "X.dtypes.value_counts()"
   ]
  },
  {
   "cell_type": "code",
   "execution_count": 10,
   "metadata": {},
   "outputs": [],
   "source": [
    "# Vamos dropar as features com mais de 35% de valores faltantes\n",
    "\n",
    "faltantes = pd.DataFrame(X.isnull().sum()/X.shape[0]) * 100\n",
    "faltantes.reset_index(level=0, inplace=True)\n",
    "faltantes.columns = ['features','percentual']\n",
    "\n",
    "faltantes = faltantes.query('percentual >= 35')\n",
    "\n",
    "features_drop = [nomes for nomes in faltantes.features]\n",
    "\n",
    "X.drop(features_drop, axis = 1, inplace=True)"
   ]
  },
  {
   "cell_type": "code",
   "execution_count": 11,
   "metadata": {
    "scrolled": true
   },
   "outputs": [
    {
     "data": {
      "text/plain": [
       "(50000, 67)"
      ]
     },
     "execution_count": 11,
     "metadata": {},
     "output_type": "execute_result"
    }
   ],
   "source": [
    "# Como ficou?\n",
    "X.shape"
   ]
  },
  {
   "cell_type": "code",
   "execution_count": 12,
   "metadata": {
    "scrolled": false
   },
   "outputs": [
    {
     "data": {
      "text/plain": [
       "float64    38\n",
       "object     28\n",
       "int64       1\n",
       "dtype: int64"
      ]
     },
     "execution_count": 12,
     "metadata": {},
     "output_type": "execute_result"
    }
   ],
   "source": [
    "X.dtypes.value_counts()"
   ]
  },
  {
   "cell_type": "code",
   "execution_count": 13,
   "metadata": {},
   "outputs": [
    {
     "data": {
      "text/plain": [
       "Var6      7.212950e+06\n",
       "Var7      4.001895e+01\n",
       "Var13     7.811773e+06\n",
       "Var21     3.198583e+05\n",
       "Var22     4.963061e+05\n",
       "Var24     9.858144e+01\n",
       "Var25     4.593233e+04\n",
       "Var28     9.706238e+03\n",
       "Var35     8.976059e+00\n",
       "Var38     9.060560e+12\n",
       "Var44     2.654762e+00\n",
       "Var57     4.104197e+00\n",
       "Var65     1.027069e+02\n",
       "Var73     2.794092e+03\n",
       "Var74     5.878473e+05\n",
       "Var76     3.436179e+12\n",
       "Var78     4.559759e+00\n",
       "Var81     1.129377e+10\n",
       "Var83     7.766802e+03\n",
       "Var85     4.252044e+02\n",
       "Var109    1.995134e+04\n",
       "Var112    2.484964e+04\n",
       "Var113    5.796888e+11\n",
       "Var119    4.689101e+06\n",
       "Var123    4.908498e+04\n",
       "Var125    8.123125e+09\n",
       "Var126    5.076953e+02\n",
       "Var132    9.989759e+01\n",
       "Var133    5.946768e+12\n",
       "Var134    3.652286e+11\n",
       "Var140    1.592417e+07\n",
       "Var143    4.135272e-01\n",
       "Var144    1.373652e+02\n",
       "Var149    4.315105e+11\n",
       "Var153    1.891316e+13\n",
       "Var160    9.899683e+03\n",
       "Var163    7.205698e+11\n",
       "Var173    1.755705e-02\n",
       "Var181    6.228425e+00\n",
       "dtype: float64"
      ]
     },
     "execution_count": 13,
     "metadata": {},
     "output_type": "execute_result"
    }
   ],
   "source": [
    "# Vamos checar a variância dessas features\n",
    "X.var()"
   ]
  },
  {
   "cell_type": "code",
   "execution_count": 14,
   "metadata": {},
   "outputs": [],
   "source": [
    "# vimos que a variável 173 e a 143 tem uma variância muito baixa, vamos dropá-las também então\n",
    "X.drop(['Var143','Var173'],\n",
    "      axis =1,\n",
    "      inplace=True)"
   ]
  },
  {
   "cell_type": "code",
   "execution_count": 15,
   "metadata": {
    "scrolled": true
   },
   "outputs": [
    {
     "data": {
      "text/html": [
       "<div>\n",
       "<style scoped>\n",
       "    .dataframe tbody tr th:only-of-type {\n",
       "        vertical-align: middle;\n",
       "    }\n",
       "\n",
       "    .dataframe tbody tr th {\n",
       "        vertical-align: top;\n",
       "    }\n",
       "\n",
       "    .dataframe thead th {\n",
       "        text-align: right;\n",
       "    }\n",
       "</style>\n",
       "<table border=\"1\" class=\"dataframe\">\n",
       "  <thead>\n",
       "    <tr style=\"text-align: right;\">\n",
       "      <th></th>\n",
       "      <th>features</th>\n",
       "      <th>num_categorias</th>\n",
       "    </tr>\n",
       "  </thead>\n",
       "  <tbody>\n",
       "    <tr>\n",
       "      <th>0</th>\n",
       "      <td>Var192</td>\n",
       "      <td>361</td>\n",
       "    </tr>\n",
       "    <tr>\n",
       "      <th>1</th>\n",
       "      <td>Var193</td>\n",
       "      <td>51</td>\n",
       "    </tr>\n",
       "    <tr>\n",
       "      <th>2</th>\n",
       "      <td>Var195</td>\n",
       "      <td>23</td>\n",
       "    </tr>\n",
       "    <tr>\n",
       "      <th>3</th>\n",
       "      <td>Var196</td>\n",
       "      <td>4</td>\n",
       "    </tr>\n",
       "    <tr>\n",
       "      <th>4</th>\n",
       "      <td>Var197</td>\n",
       "      <td>225</td>\n",
       "    </tr>\n",
       "    <tr>\n",
       "      <th>5</th>\n",
       "      <td>Var198</td>\n",
       "      <td>4291</td>\n",
       "    </tr>\n",
       "    <tr>\n",
       "      <th>6</th>\n",
       "      <td>Var199</td>\n",
       "      <td>5073</td>\n",
       "    </tr>\n",
       "    <tr>\n",
       "      <th>7</th>\n",
       "      <td>Var202</td>\n",
       "      <td>5713</td>\n",
       "    </tr>\n",
       "    <tr>\n",
       "      <th>8</th>\n",
       "      <td>Var203</td>\n",
       "      <td>5</td>\n",
       "    </tr>\n",
       "    <tr>\n",
       "      <th>9</th>\n",
       "      <td>Var204</td>\n",
       "      <td>100</td>\n",
       "    </tr>\n",
       "    <tr>\n",
       "      <th>10</th>\n",
       "      <td>Var205</td>\n",
       "      <td>3</td>\n",
       "    </tr>\n",
       "    <tr>\n",
       "      <th>11</th>\n",
       "      <td>Var206</td>\n",
       "      <td>21</td>\n",
       "    </tr>\n",
       "    <tr>\n",
       "      <th>12</th>\n",
       "      <td>Var207</td>\n",
       "      <td>14</td>\n",
       "    </tr>\n",
       "    <tr>\n",
       "      <th>13</th>\n",
       "      <td>Var208</td>\n",
       "      <td>2</td>\n",
       "    </tr>\n",
       "    <tr>\n",
       "      <th>14</th>\n",
       "      <td>Var210</td>\n",
       "      <td>6</td>\n",
       "    </tr>\n",
       "    <tr>\n",
       "      <th>15</th>\n",
       "      <td>Var211</td>\n",
       "      <td>2</td>\n",
       "    </tr>\n",
       "    <tr>\n",
       "      <th>16</th>\n",
       "      <td>Var212</td>\n",
       "      <td>81</td>\n",
       "    </tr>\n",
       "    <tr>\n",
       "      <th>17</th>\n",
       "      <td>Var216</td>\n",
       "      <td>2016</td>\n",
       "    </tr>\n",
       "    <tr>\n",
       "      <th>18</th>\n",
       "      <td>Var217</td>\n",
       "      <td>13990</td>\n",
       "    </tr>\n",
       "    <tr>\n",
       "      <th>19</th>\n",
       "      <td>Var218</td>\n",
       "      <td>2</td>\n",
       "    </tr>\n",
       "    <tr>\n",
       "      <th>20</th>\n",
       "      <td>Var219</td>\n",
       "      <td>22</td>\n",
       "    </tr>\n",
       "    <tr>\n",
       "      <th>21</th>\n",
       "      <td>Var220</td>\n",
       "      <td>4291</td>\n",
       "    </tr>\n",
       "    <tr>\n",
       "      <th>22</th>\n",
       "      <td>Var221</td>\n",
       "      <td>7</td>\n",
       "    </tr>\n",
       "    <tr>\n",
       "      <th>23</th>\n",
       "      <td>Var222</td>\n",
       "      <td>4291</td>\n",
       "    </tr>\n",
       "    <tr>\n",
       "      <th>24</th>\n",
       "      <td>Var223</td>\n",
       "      <td>4</td>\n",
       "    </tr>\n",
       "    <tr>\n",
       "      <th>25</th>\n",
       "      <td>Var226</td>\n",
       "      <td>23</td>\n",
       "    </tr>\n",
       "    <tr>\n",
       "      <th>26</th>\n",
       "      <td>Var227</td>\n",
       "      <td>7</td>\n",
       "    </tr>\n",
       "    <tr>\n",
       "      <th>27</th>\n",
       "      <td>Var228</td>\n",
       "      <td>30</td>\n",
       "    </tr>\n",
       "  </tbody>\n",
       "</table>\n",
       "</div>"
      ],
      "text/plain": [
       "   features  num_categorias\n",
       "0    Var192             361\n",
       "1    Var193              51\n",
       "2    Var195              23\n",
       "3    Var196               4\n",
       "4    Var197             225\n",
       "5    Var198            4291\n",
       "6    Var199            5073\n",
       "7    Var202            5713\n",
       "8    Var203               5\n",
       "9    Var204             100\n",
       "10   Var205               3\n",
       "11   Var206              21\n",
       "12   Var207              14\n",
       "13   Var208               2\n",
       "14   Var210               6\n",
       "15   Var211               2\n",
       "16   Var212              81\n",
       "17   Var216            2016\n",
       "18   Var217           13990\n",
       "19   Var218               2\n",
       "20   Var219              22\n",
       "21   Var220            4291\n",
       "22   Var221               7\n",
       "23   Var222            4291\n",
       "24   Var223               4\n",
       "25   Var226              23\n",
       "26   Var227               7\n",
       "27   Var228              30"
      ]
     },
     "execution_count": 15,
     "metadata": {},
     "output_type": "execute_result"
    }
   ],
   "source": [
    "# Vamos ver quantas classes cada categorica tem\n",
    "categoricas = X.select_dtypes(exclude=[\"number\"])\n",
    "categoricas = pd.DataFrame(categoricas.nunique())\n",
    "categoricas.reset_index(level=0, inplace=True)\n",
    "categoricas.columns = ['features','num_categorias']\n",
    "categoricas"
   ]
  },
  {
   "cell_type": "code",
   "execution_count": 16,
   "metadata": {},
   "outputs": [],
   "source": [
    "# Vamos ver quais as 10 categorias mais frequentes nas categoricas com mais de 10 categorias e utilizar apenas essas\n",
    "\n",
    "def transformar(X, features):\n",
    "    for feature in features:\n",
    "        try:\n",
    "            ajuste = pd.DataFrame(X[feature].value_counts())\n",
    "            ajuste.reset_index(level=0, inplace=True)\n",
    "            ajuste.columns = ['features','num']\n",
    "            ajuste.reset_index(level=0, inplace=True)\n",
    "            ajuste = list(ajuste.query('index > 9').features)\n",
    "            \n",
    "            for categoria in ajuste:\n",
    "                X[feature].replace(categoria, 'Other', inplace = True)\n",
    "                \n",
    "        except:\n",
    "            pass\n",
    "            \n",
    "\n",
    "transformar(X, categoricas.features)"
   ]
  },
  {
   "cell_type": "code",
   "execution_count": 17,
   "metadata": {},
   "outputs": [],
   "source": [
    "# Agora vamos aplicar one hot encoding\n",
    "\n",
    "X = pd.get_dummies(X)"
   ]
  },
  {
   "cell_type": "code",
   "execution_count": 18,
   "metadata": {},
   "outputs": [],
   "source": [
    "# # Vamos processar agora os valores missing\n",
    "# # Vamos usar um processo simples de imputar a média\n",
    "imputer = SimpleImputer(missing_values=np.nan, strategy='mean')\n",
    "\n",
    "X = imputer.fit_transform(X)"
   ]
  },
  {
   "cell_type": "code",
   "execution_count": 32,
   "metadata": {},
   "outputs": [],
   "source": [
    "# Vamos dividir em treino e teste\n",
    "\n",
    "X_train, X_test, y_train, y_test = train_test_split(X, y, test_size = .3, random_state = 3)\n"
   ]
  },
  {
   "cell_type": "code",
   "execution_count": 52,
   "metadata": {},
   "outputs": [],
   "source": [
    "# Agora vamos balancear os dados\n",
    "\n",
    "sm = SMOTE(random_state= 3)\n",
    "\n",
    "X_res, y_res = sm.fit_resample(X_train, y_train.values.ravel())"
   ]
  },
  {
   "cell_type": "code",
   "execution_count": 54,
   "metadata": {},
   "outputs": [
    {
     "name": "stdout",
     "output_type": "stream",
     "text": [
      "Acurárica: 0.5610666666666667\n",
      "ROC_AUC: 0.5585268252941318\n"
     ]
    }
   ],
   "source": [
    "# regressao logistica\n",
    "import warnings\n",
    "warnings.filterwarnings('ignore')\n",
    "\n",
    "logreg = LogisticRegressionCV(cv = 10)\n",
    "logreg.fit(X_res, y_res)\n",
    "yhat_logreg = logreg.predict(X_test)\n",
    "\n",
    "print('Acurárica: ' + str(accuracy_score(y_test, yhat_logreg)))\n",
    "print('ROC_AUC: '+ str(roc_auc_score(y_test, yhat_logreg)))"
   ]
  },
  {
   "cell_type": "code",
   "execution_count": 55,
   "metadata": {},
   "outputs": [
    {
     "data": {
      "text/plain": [
       "array([[7811, 6100],\n",
       "       [ 484,  605]])"
      ]
     },
     "execution_count": 55,
     "metadata": {},
     "output_type": "execute_result"
    }
   ],
   "source": [
    "# matriz de confusão \n",
    "confusion_matrix(y_test, yhat_logreg)"
   ]
  },
  {
   "cell_type": "code",
   "execution_count": 56,
   "metadata": {},
   "outputs": [
    {
     "name": "stdout",
     "output_type": "stream",
     "text": [
      "Acurárica: 0.1718\n",
      "ROC_AUC: 0.5107402568829431\n"
     ]
    }
   ],
   "source": [
    "# naive bayes\n",
    "nb = GaussianNB()\n",
    "nb.fit(X_res, y_res)\n",
    "yhat_nb = nb.predict(X_test)\n",
    "\n",
    "print('Acurárica: ' + str(accuracy_score(y_test, yhat_nb)))\n",
    "print('ROC_AUC: '+ str(roc_auc_score(y_test, yhat_nb)))"
   ]
  },
  {
   "cell_type": "code",
   "execution_count": 57,
   "metadata": {},
   "outputs": [
    {
     "data": {
      "text/plain": [
       "array([[ 1589, 12322],\n",
       "       [  101,   988]])"
      ]
     },
     "execution_count": 57,
     "metadata": {},
     "output_type": "execute_result"
    }
   ],
   "source": [
    "# matriz de confusão \n",
    "confusion_matrix(y_test, yhat_nb)"
   ]
  },
  {
   "cell_type": "code",
   "execution_count": 58,
   "metadata": {},
   "outputs": [
    {
     "name": "stdout",
     "output_type": "stream",
     "text": [
      "Acurárica desbalanceamento 1: 0.9273333333333333\n",
      "ROC_AUC desbalanceamento 1: 0.5003872512645818\n"
     ]
    }
   ],
   "source": [
    "# randomforests\n",
    "rfc = RandomForestClassifier(random_state=3,\n",
    "                            n_jobs = 4,\n",
    "                            criterion='gini',\n",
    "                            n_estimators=100,\n",
    "                            verbose = False)\n",
    "rfc.fit(X_res, y_res)\n",
    "yhat_rfc = rfc.predict(X_test)\n",
    "\n",
    "print('Acurárica desbalanceamento 1: ' + str(accuracy_score(y_test, yhat_rfc)))\n",
    "print('ROC_AUC desbalanceamento 1: '+ str(roc_auc_score(y_test, yhat_rfc)))"
   ]
  },
  {
   "cell_type": "code",
   "execution_count": 59,
   "metadata": {},
   "outputs": [
    {
     "data": {
      "text/plain": [
       "array([[13909,     2],\n",
       "       [ 1088,     1]])"
      ]
     },
     "execution_count": 59,
     "metadata": {},
     "output_type": "execute_result"
    }
   ],
   "source": [
    "# matriz de confusão \n",
    "confusion_matrix(y_test, yhat_rfc)"
   ]
  },
  {
   "cell_type": "code",
   "execution_count": 62,
   "metadata": {},
   "outputs": [
    {
     "name": "stdout",
     "output_type": "stream",
     "text": [
      "Acurárica desbalanceamento 1: 0.6387333333333334\n",
      "ROC_AUC desbalanceamento 1: 0.6101336259451812\n"
     ]
    }
   ],
   "source": [
    "# LDA\n",
    "clf = LinearDiscriminantAnalysis()\n",
    "clf.fit(X_res, y_res)  \n",
    "yhat_clf = clf.predict(X_test)\n",
    "\n",
    "print('Acurárica desbalanceamento 1: ' + str(accuracy_score(y_test, yhat_clf)))\n",
    "print('ROC_AUC desbalanceamento 1: '+ str(roc_auc_score(y_test, yhat_clf)))"
   ]
  },
  {
   "cell_type": "code",
   "execution_count": 63,
   "metadata": {},
   "outputs": [
    {
     "data": {
      "text/plain": [
       "array([[8953, 4958],\n",
       "       [ 461,  628]])"
      ]
     },
     "execution_count": 63,
     "metadata": {},
     "output_type": "execute_result"
    }
   ],
   "source": [
    "# matriz de confusão \n",
    "confusion_matrix(y_test, yhat_clf)"
   ]
  }
 ],
 "metadata": {
  "kernelspec": {
   "display_name": "Python 3",
   "language": "python",
   "name": "python3"
  },
  "language_info": {
   "codemirror_mode": {
    "name": "ipython",
    "version": 3
   },
   "file_extension": ".py",
   "mimetype": "text/x-python",
   "name": "python",
   "nbconvert_exporter": "python",
   "pygments_lexer": "ipython3",
   "version": "3.7.1"
  }
 },
 "nbformat": 4,
 "nbformat_minor": 2
}
